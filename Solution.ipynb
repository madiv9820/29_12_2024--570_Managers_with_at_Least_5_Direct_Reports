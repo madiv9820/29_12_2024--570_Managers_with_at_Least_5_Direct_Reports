{
 "cells": [
  {
   "cell_type": "code",
   "execution_count": 1,
   "id": "96487b9d",
   "metadata": {},
   "outputs": [],
   "source": [
    "import pandas as pd\n",
    "from pyspark.sql.dataframe import DataFrame as spark_DataFrame\n",
    "from pyspark.sql import SparkSession\n",
    "from pyspark.sql.functions import col, count\n",
    "import numpy as np"
   ]
  },
  {
   "cell_type": "code",
   "execution_count": 2,
   "id": "dd539f19",
   "metadata": {},
   "outputs": [
    {
     "name": "stderr",
     "output_type": "stream",
     "text": [
      "25/01/01 19:46:39 WARN Utils: Your hostname, madiv resolves to a loopback address: 127.0.1.1; using 192.168.1.11 instead (on interface wlo1)\n",
      "25/01/01 19:46:39 WARN Utils: Set SPARK_LOCAL_IP if you need to bind to another address\n",
      "Setting default log level to \"WARN\".\n",
      "To adjust logging level use sc.setLogLevel(newLevel). For SparkR, use setLogLevel(newLevel).\n",
      "25/01/01 19:46:40 WARN NativeCodeLoader: Unable to load native-hadoop library for your platform... using builtin-java classes where applicable\n"
     ]
    }
   ],
   "source": [
    "spark = SparkSession.builder.appName('Leetcode').getOrCreate()"
   ]
  },
  {
   "cell_type": "code",
   "execution_count": 3,
   "id": "97b7ccd6",
   "metadata": {},
   "outputs": [
    {
     "name": "stderr",
     "output_type": "stream",
     "text": [
      "                                                                                \r"
     ]
    }
   ],
   "source": [
    "spark_Employee = spark.read.option('header', True).option('delimiter', ',').csv('Employee.csv')\n",
    "pandas_Employee = pd.read_csv('Employee.csv')"
   ]
  },
  {
   "cell_type": "code",
   "execution_count": 4,
   "id": "62cf0f7a",
   "metadata": {},
   "outputs": [
    {
     "name": "stdout",
     "output_type": "stream",
     "text": [
      "+---+-----+----------+---------+\n",
      "| id| name|department|managerId|\n",
      "+---+-----+----------+---------+\n",
      "|101| John|         A|     null|\n",
      "|102|  Dan|         A|      101|\n",
      "|103|James|         A|      101|\n",
      "|104|  Amy|         A|      101|\n",
      "|105| Anne|         A|      101|\n",
      "|106|  Ron|         B|      101|\n",
      "+---+-----+----------+---------+\n",
      "\n"
     ]
    }
   ],
   "source": [
    "spark_Employee.show(100)"
   ]
  },
  {
   "cell_type": "code",
   "execution_count": 5,
   "id": "89e041ea",
   "metadata": {},
   "outputs": [
    {
     "data": {
      "text/html": [
       "<div>\n",
       "<style scoped>\n",
       "    .dataframe tbody tr th:only-of-type {\n",
       "        vertical-align: middle;\n",
       "    }\n",
       "\n",
       "    .dataframe tbody tr th {\n",
       "        vertical-align: top;\n",
       "    }\n",
       "\n",
       "    .dataframe thead th {\n",
       "        text-align: right;\n",
       "    }\n",
       "</style>\n",
       "<table border=\"1\" class=\"dataframe\">\n",
       "  <thead>\n",
       "    <tr style=\"text-align: right;\">\n",
       "      <th></th>\n",
       "      <th>id</th>\n",
       "      <th>name</th>\n",
       "      <th>department</th>\n",
       "      <th>managerId</th>\n",
       "    </tr>\n",
       "  </thead>\n",
       "  <tbody>\n",
       "    <tr>\n",
       "      <th>0</th>\n",
       "      <td>101</td>\n",
       "      <td>John</td>\n",
       "      <td>A</td>\n",
       "      <td>NaN</td>\n",
       "    </tr>\n",
       "    <tr>\n",
       "      <th>1</th>\n",
       "      <td>102</td>\n",
       "      <td>Dan</td>\n",
       "      <td>A</td>\n",
       "      <td>101.0</td>\n",
       "    </tr>\n",
       "    <tr>\n",
       "      <th>2</th>\n",
       "      <td>103</td>\n",
       "      <td>James</td>\n",
       "      <td>A</td>\n",
       "      <td>101.0</td>\n",
       "    </tr>\n",
       "    <tr>\n",
       "      <th>3</th>\n",
       "      <td>104</td>\n",
       "      <td>Amy</td>\n",
       "      <td>A</td>\n",
       "      <td>101.0</td>\n",
       "    </tr>\n",
       "    <tr>\n",
       "      <th>4</th>\n",
       "      <td>105</td>\n",
       "      <td>Anne</td>\n",
       "      <td>A</td>\n",
       "      <td>101.0</td>\n",
       "    </tr>\n",
       "    <tr>\n",
       "      <th>5</th>\n",
       "      <td>106</td>\n",
       "      <td>Ron</td>\n",
       "      <td>B</td>\n",
       "      <td>101.0</td>\n",
       "    </tr>\n",
       "  </tbody>\n",
       "</table>\n",
       "</div>"
      ],
      "text/plain": [
       "    id   name department  managerId\n",
       "0  101   John          A        NaN\n",
       "1  102    Dan          A      101.0\n",
       "2  103  James          A      101.0\n",
       "3  104    Amy          A      101.0\n",
       "4  105   Anne          A      101.0\n",
       "5  106    Ron          B      101.0"
      ]
     },
     "execution_count": 5,
     "metadata": {},
     "output_type": "execute_result"
    }
   ],
   "source": [
    "pandas_Employee.head(100)"
   ]
  },
  {
   "cell_type": "markdown",
   "id": "9c2ab592",
   "metadata": {},
   "source": [
    "### SQL"
   ]
  },
  {
   "cell_type": "code",
   "execution_count": 6,
   "id": "3637e28c",
   "metadata": {},
   "outputs": [
    {
     "name": "stdout",
     "output_type": "stream",
     "text": [
      "+----+\n",
      "|name|\n",
      "+----+\n",
      "|John|\n",
      "+----+\n",
      "\n"
     ]
    }
   ],
   "source": [
    "def find_managers(employee: spark_DataFrame) -> spark_DataFrame:\n",
    "    # Create a temporary view of the Employee DataFrame for use in SQL queries\n",
    "    employee.createOrReplaceTempView('Employee')\n",
    "\n",
    "    # Define the SQL query to find managers with at least 5 direct reports\n",
    "    sqlQuery = \\\n",
    "    '''\n",
    "    -- Select the names of employees who manage at least 5 others\n",
    "    SELECT e1.name\n",
    "    FROM Employee e1\n",
    "    -- Join the Employee table with itself to link managers (e1) to their direct reports (e2)\n",
    "    INNER JOIN Employee e2\n",
    "    ON e1.id = e2.managerId\n",
    "    -- Group the results by manager (e1.name) and manager's ID (e2.managerId) to count their direct reports\n",
    "    GROUP BY e1.name, e2.managerId\n",
    "    -- Filter the managers who have 5 or more direct reports\n",
    "    HAVING COUNT(*) >= 5\n",
    "    '''\n",
    "\n",
    "    # Execute the SQL query on the Spark session and store the result in `output`\n",
    "    output = spark.sql(sqlQuery)\n",
    "    \n",
    "    # Return the result as a Spark DataFrame\n",
    "    return output\n",
    "\n",
    "output = find_managers(employee = spark_Employee)\n",
    "output.show()"
   ]
  },
  {
   "cell_type": "markdown",
   "id": "1cf6f9fb",
   "metadata": {},
   "source": [
    "### PySpark"
   ]
  },
  {
   "cell_type": "code",
   "execution_count": 7,
   "id": "a036cd0f",
   "metadata": {},
   "outputs": [
    {
     "name": "stdout",
     "output_type": "stream",
     "text": [
      "+------------+\n",
      "|manager_name|\n",
      "+------------+\n",
      "|        John|\n",
      "+------------+\n",
      "\n"
     ]
    }
   ],
   "source": [
    "def find_managers(employee: spark_DataFrame) -> spark_DataFrame:\n",
    "    # Step 1: Perform a self-join on the Employee DataFrame to link employees with their managers\n",
    "    # 'e1' represents the employee (manager in this case)\n",
    "    # 'e2' represents the employee's direct reports\n",
    "    join_result = employee.alias('e1').join(\n",
    "        employee.alias('e2'), \n",
    "        on = (col('e1.id') == col('e2.managerId')),  # Join condition: e1.id = e2.managerId\n",
    "        how = 'inner'  # Inner join, as we want only employees with managers\n",
    "    ) \\\n",
    "    .select(\n",
    "        col('e1.name').alias('manager_name'),  # Selecting manager's name from 'e1'\n",
    "        col('e2.managerId')  # Selecting the managerId from 'e2' (direct reports)\n",
    "    )\n",
    "\n",
    "    # Step 2: Group the results by manager's name and managerId\n",
    "    # We need to count the number of direct reports for each manager\n",
    "    grouped_result = join_result.groupby(\n",
    "        'manager_name', 'managerId'  # Group by manager's name and managerId\n",
    "    ).agg(\n",
    "        count('managerId').alias('direct_reports_count')  # Count the number of direct reports\n",
    "    )\n",
    "\n",
    "    # Step 3: Filter to keep only the managers who have 5 or more direct reports\n",
    "    filtered_result = grouped_result.filter(\n",
    "        col('direct_reports_count') >= 5  # Filter condition: direct_reports_count >= 5\n",
    "    )\n",
    "\n",
    "    # Step 4: Select only the manager names (those who have 5 or more direct reports)\n",
    "    final_result = filtered_result.select('manager_name')\n",
    "\n",
    "    # Return the final DataFrame containing the names of the managers\n",
    "    return final_result\n",
    "\n",
    "output = find_managers(employee = spark_Employee)\n",
    "output.show()"
   ]
  },
  {
   "cell_type": "markdown",
   "id": "edd5587d",
   "metadata": {},
   "source": [
    "### Pandas"
   ]
  },
  {
   "cell_type": "code",
   "execution_count": 8,
   "id": "188ae57b",
   "metadata": {},
   "outputs": [
    {
     "data": {
      "text/html": [
       "<div>\n",
       "<style scoped>\n",
       "    .dataframe tbody tr th:only-of-type {\n",
       "        vertical-align: middle;\n",
       "    }\n",
       "\n",
       "    .dataframe tbody tr th {\n",
       "        vertical-align: top;\n",
       "    }\n",
       "\n",
       "    .dataframe thead th {\n",
       "        text-align: right;\n",
       "    }\n",
       "</style>\n",
       "<table border=\"1\" class=\"dataframe\">\n",
       "  <thead>\n",
       "    <tr style=\"text-align: right;\">\n",
       "      <th></th>\n",
       "      <th>name</th>\n",
       "    </tr>\n",
       "  </thead>\n",
       "  <tbody>\n",
       "    <tr>\n",
       "      <th>0</th>\n",
       "      <td>John</td>\n",
       "    </tr>\n",
       "  </tbody>\n",
       "</table>\n",
       "</div>"
      ],
      "text/plain": [
       "   name\n",
       "0  John"
      ]
     },
     "execution_count": 8,
     "metadata": {},
     "output_type": "execute_result"
    }
   ],
   "source": [
    "def find_managers(employee: pd.DataFrame) -> pd.DataFrame:\n",
    "    # Step 1: Create a DataFrame `e1` which is the original employee DataFrame with the 'managerId' column dropped\n",
    "    # 'e1' will represent employees (not managers) in the merge\n",
    "    e1 = employee.drop(columns = ['managerId'])\n",
    "\n",
    "    # Step 2: Create a DataFrame `e2` where the 'id' column is dropped, and 'managerId' is renamed to 'id'\n",
    "    # 'e2' will represent the direct reports of the managers\n",
    "    e2 = employee.drop(columns = ['id']).rename(columns = {'managerId': 'id'})\n",
    "\n",
    "    # Step 3: Perform an inner merge (join) of `e1` and `e2` on 'id' column (manager's 'id' and employee's 'managerId')\n",
    "    # The merge links employees (e1) to their direct reports (e2) based on matching 'id' (manager's ID)\n",
    "    join = e1.merge(e2, on = 'id', how = 'inner', suffixes = ['_e1', '_e2'])\n",
    "\n",
    "    # Step 4: Group the merged DataFrame by manager's 'id' (from the 'e1' part of the DataFrame)\n",
    "    # Count the number of direct reports (i.e., size of each group) for each manager and reset the index\n",
    "    manager = join.groupby(['id']).size().reset_index(name = 'managerCount')\n",
    "\n",
    "    # Step 5: Filter out the managers who have fewer than 5 direct reports\n",
    "    # `managerCount` is the number of direct reports, so we select managers with at least 5 direct reports\n",
    "    managerIds = manager.id[manager['managerCount'] >= 5]\n",
    "\n",
    "    # Step 6: Create a list `names` to store the names of the managers who have at least 5 direct reports\n",
    "    # Loop through the `managerIds` and fetch the unique names for each qualifying manager\n",
    "    names = []\n",
    "    for managerId in managerIds:\n",
    "        # Get the names of employees whose 'id' matches the current managerId\n",
    "        names += list(np.unique(employee.name[employee['id'] == managerId]))\n",
    "\n",
    "    # Step 7: Return the result as a new DataFrame with the column 'name' for the managers\n",
    "    return pd.DataFrame(names, columns = ['name'])\n",
    "\n",
    "output = find_managers(employee = pandas_Employee)\n",
    "output.head()"
   ]
  }
 ],
 "metadata": {
  "kernelspec": {
   "display_name": "Python 3 (ipykernel)",
   "language": "python",
   "name": "python3"
  },
  "language_info": {
   "codemirror_mode": {
    "name": "ipython",
    "version": 3
   },
   "file_extension": ".py",
   "mimetype": "text/x-python",
   "name": "python",
   "nbconvert_exporter": "python",
   "pygments_lexer": "ipython3",
   "version": "3.11.5"
  }
 },
 "nbformat": 4,
 "nbformat_minor": 5
}
